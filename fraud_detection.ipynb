{
 "cells": [
  {
   "cell_type": "markdown",
   "id": "70f966cd",
   "metadata": {},
   "source": [
    "# Fraud Detection with Decision Trees"
   ]
  },
  {
   "cell_type": "markdown",
   "id": "b188ae2b",
   "metadata": {},
   "source": [
    "## Section 1: Feature Engineering & Model Tuning"
   ]
  },
  {
   "cell_type": "code",
   "execution_count": null,
   "id": "06347439",
   "metadata": {},
   "outputs": [],
   "source": [
    "import pandas as pd\n",
    "import numpy as np\n",
    "from sklearn.model_selection import train_test_split, GridSearchCV\n",
    "from sklearn.tree import DecisionTreeClassifier\n",
    "from sklearn.preprocessing import LabelEncoder\n",
    "from sklearn.metrics import classification_report, accuracy_score\n",
    "\n",
    "# Load dataset\n",
    "df = pd.read_csv('fraud_detection.csv')\n",
    "\n",
    "# Inspect missing values\n",
    "print(\"Missing Values:\n",
    "\", df.isnull().sum())\n",
    "\n",
    "# Label Encoding for categorical features\n",
    "label_encoder = LabelEncoder()\n",
    "df['Type'] = label_encoder.fit_transform(df['Type'])\n",
    "\n",
    "# Feature Engineering: Creating a new feature (e.g., log-transformed amount)\n",
    "df['LogAmount'] = np.log1p(df['Amount'])\n",
    "\n",
    "# Split dataset\n",
    "X = df[['Amount', 'Type', 'LogAmount']]\n",
    "y = df['Is Fraud']\n",
    "\n",
    "X_train, X_test, y_train, y_test = train_test_split(X, y, test_size=0.2, random_state=42)\n",
    "\n",
    "# Initialize Decision Tree\n",
    "dt = DecisionTreeClassifier(random_state=42)\n",
    "\n",
    "# Hyperparameter tuning with GridSearchCV\n",
    "param_grid = {\n",
    "    'max_depth': [3, 5, 10, None],\n",
    "    'min_samples_split': [2, 5, 10],\n",
    "    'min_samples_leaf': [1, 2, 4]\n",
    "}\n",
    "\n",
    "grid_search = GridSearchCV(dt, param_grid, cv=5, scoring='f1', n_jobs=-1)\n",
    "grid_search.fit(X_train, y_train)\n",
    "\n",
    "# Best parameters\n",
    "print(\"Best Parameters:\", grid_search.best_params_)\n",
    "\n",
    "# Train the best model\n",
    "best_dt = grid_search.best_estimator_\n",
    "y_pred = best_dt.predict(X_test)\n",
    "\n",
    "# Evaluation\n",
    "print(\"Classification Report:\n",
    "\", classification_report(y_test, y_pred))\n",
    "print(\"Accuracy:\", accuracy_score(y_test, y_pred))\n"
   ]
  }
 ],
 "metadata": {},
 "nbformat": 4,
 "nbformat_minor": 5
}
